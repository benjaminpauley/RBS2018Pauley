{
 "cells": [
  {
   "cell_type": "markdown",
   "metadata": {},
   "source": [
    "# Parsing MARC records with Pymarc #\n",
    "\n",
    "In this exercise, we're going to use the Pymarc library to extract information from a file of library catalog records in MARC format. \n",
    "\n",
    "This code is meant to provide some practical techniques for dealing with MARC data. It's not necessarily the most elegant Python (experienced coders may well see better ways to accomplish these things), but each cell will introduce a different coding technique that is more broadly applicable (variables, control flow, conditionals, etc.). Likewise, professional catalogers may well see nuances of MARC that I'm passing over or missing.\n",
    "\n",
    "All of the code examples here target Python 2.7. Python 2.7 isn't the most recent current of Python, and the code would need some updating for compatibility with Python 3. But you'll find lots of tutorials and discussion board posts targeted at Python 2.7, so this code may provide a reasonable starting point for further learning."
   ]
  },
  {
   "cell_type": "markdown",
   "metadata": {},
   "source": [
    "## Opening a file and reading it ##\n",
    "\n",
    "This first example handles the basic steps we'll need to perform to deal with a file of MARC records: \n",
    "* Importing the necessary library for reading MARC records (provided by the Pymarc package); \n",
    "* Opening our file of MARC records;\n",
    "* Passing the contents of the file to Pymarc's MARCReader function;\n",
    "* Initiating an operation on each record in the file.\n",
    "\n",
    "MARC is a long-lived format, and is actually quite ingenious--but it's also kind of abstruse and a bit cumbersome to work with in its raw form. Pymarc is a library that handles all the mucky business of reading MARC data for us and makes it available for use in our Python scripts. By \"importing\" Pymarc's MARCReader function, our script gets access to everything that Pymarc \"knows\" about reading MARC: Pymarc reads MARC so we don't have to. \n",
    "\n",
    "Refer to the \"MARC Crash Course\" handout for a quick overview of some of the MARC fields we're most likely to be interested in. For complete documentation, see https://www.loc.gov/marc/bibliographic/\n",
    "\n",
    "(In the cells below, you'll see that lines with an octothorpe [aka \"pound sign\" or \"hashtag\"] at the beginning appear in light green italics. Those lines are comments and not code that gets executed. I've used comments to provide, well, commentary on the code. But we can also \"comment out\" a line of code to prevent it from running. In some of the examples below, I've commented out some commands so that they won't execute when you run the code in the cell the first time, then asked you to \"uncomment\" the command and re-run the code to see what changes. To \"comment out\" a line of code, simply add an octothorpe at the beginning of the line. To \"uncomment\" a line, just delete the octothorpe from the beginning of the line.)"
   ]
  },
  {
   "cell_type": "code",
   "execution_count": null,
   "metadata": {},
   "outputs": [],
   "source": [
    "# Import the necessary components from the Pymarc library.\n",
    "from pymarc import MARCReader\n",
    "\n",
    "# This is a pretty standard way of working with a file in Python. We open the file by passing the filename\n",
    "# to the open command and indicate that we want to open the file in \"readable\" mode. While we're at it, we\n",
    "# create a variable name (\"infile\") to use as an alias for referring to our file. \n",
    "\n",
    "with open('/media/sf_RBSDigitalApproaches/data/0611_Tuesday_data/Bowyer_from_ESTC-sample.mrc', 'r') as infile :\n",
    "    # Note the colon at the end of the \"with\" statement, as well as the indentation of the subsequent code. \n",
    "    # White space matters in Python. The indented code is executed \"inside\" the statement\n",
    "    # above it. (Other languages would use, say, curly braces, to indicate this sort of control flow.)\n",
    "    \n",
    "    # Next, we pass the contents of the file we just opened (referred to using the variable name \"infile\") \n",
    "    # to the MARCReader function of the Pymarc library. This will allow us to use all of the methods that\n",
    "    # that library offers for reading MARC data.\n",
    "    reader = MARCReader(infile) \n",
    "    \n",
    "    # We're going to want to do something with each of the records in our file, so we'll begin a \"for\" loop.\n",
    "    # Just as we did for our \"with\" statement above, the for statement ends with a colon and the subsequent\n",
    "    # code is indented. The code inside this loop will be run for each item that the loop encounters. \n",
    "    # (Note that the variable name \"record\" is arbitrary--we could use \"x\" or \"imelda\" and the computer would \n",
    "    # understand just fine. But we need our code to be human-readable, too, so let's stick with variable names\n",
    "    #  that make sense to us.)\n",
    "    for record in reader :\n",
    "        # Let's just keep things simple at this point and print each record to prove that we really do have a \n",
    "        # set of MARC records to work with.\n",
    "        print(record)"
   ]
  },
  {
   "cell_type": "markdown",
   "metadata": {},
   "source": [
    "## Accessing MARC fields with Pymarc ##\n",
    "\n",
    "There's not much point in using Python just to print formatted MARC records to the screen. We're probably more interested in the contents of the fields and subfields than we are with the MARC tags and subfield codes. This is where Pymarc's ability to interpret MARC for us comes into play: MARCReader allows us to access the contents of fields and subfields using a pretty straightforward syntax.\n",
    "\n",
    "(In the next few examples, we're going to stick to non-repeatable MARC fields. Repeatable fields need to be treated a little differently. We'll get there.)\n",
    "\n",
    "The next cell works through a couple of ways of accessing MARC data. Run the code in the cell, then comment out the first print command, uncomment the next ones and re-run the code. Repeat that process for the final set of print commands."
   ]
  },
  {
   "cell_type": "code",
   "execution_count": null,
   "metadata": {},
   "outputs": [],
   "source": [
    "from pymarc import MARCReader\n",
    "with open('/media/sf_RBSDigitalApproaches/data/0611_Tuesday_data/Bowyer_from_ESTC-sample.mrc','r') as infile :\n",
    "    reader = MARCReader(infile)\n",
    "    for record in reader :\n",
    "        # We can access the content of fields like this:\n",
    "        print(record['245'])\n",
    "        \n",
    "        # More helpful, though, is our ability to access the content of subfields:\n",
    "        #print(record['245']['a'])\n",
    "        #print(record['245']['b'] + '\\n')\n",
    "        \n",
    "        # Not all MARC fields have subfields. To access the contents of these controlfields, use \".data\"\n",
    "        #print(record['001'].data)\n",
    "        #print(record['008'].data + '\\n')"
   ]
  },
  {
   "cell_type": "markdown",
   "metadata": {},
   "source": [
    "### Variables ###\n",
    "Reading and printing the contents of MARC fields is all well and good, but we probably want to be able to hold on to that information and do something with it. That's much easier to do when we declare variables and assign values to them. For most people, something like \"main_title\" is easier to understand and remember than \"record['245']['a']\". It's certainly easier and faster to type.\n",
    "\n",
    "In the cell below, I've created a variable to hold the value of MARC 245|a and then print that variable. After running the code, add your own variable to get the value of MARC 260|c, then uncomment the final print command and re-run the code in the cell."
   ]
  },
  {
   "cell_type": "code",
   "execution_count": null,
   "metadata": {
    "scrolled": true
   },
   "outputs": [],
   "source": [
    "from pymarc import MARCReader\n",
    "with open('/media/sf_RBSDigitalApproaches/data/0611_Tuesday_data/Bowyer_from_ESTC-sample.mrc','r') as infile :\n",
    "    reader = MARCReader(infile)\n",
    "    for record in reader :\n",
    "        # Now we'll create some variables and assign them the values of selected fields from our MARC records.\n",
    "        main_title = record['245']['a']\n",
    "        \n",
    "         # >> Create a new variable called \"imprint_year\" and assign it the value of MARC 260|c. Then uncomment\n",
    "         # >> the print(imprint_year) command by deleting the octothorpe at the beginning of the line and run the\n",
    "         # >> code in this cell.\n",
    "        \n",
    "        print(main_title)\n",
    "        #print(imprint_year)"
   ]
  },
  {
   "cell_type": "markdown",
   "metadata": {},
   "source": [
    "### Conditionals ###\n",
    "While every MARC record has a title field (245), not all records have a main author field (100). Texts created by corporate authors, for example, have 110 fields, instead; works for which no author is known may not have any main author entry. If we were simply to create a variable for `author_name` and assign it the value of MARC 100|a, we'll run into an error when we come across a record that doesn't have a 100 field. \n",
    "\n",
    "In this next example, we'll check to see if the record *has* a 100 field before assigning the content of 100|a to a variable."
   ]
  },
  {
   "cell_type": "code",
   "execution_count": null,
   "metadata": {},
   "outputs": [],
   "source": [
    "from pymarc import MARCReader\n",
    "with open('/media/sf_RBSDigitalApproaches/data/0611_Tuesday_data/Bowyer_from_ESTC-sample.mrc','r') as infile :\n",
    "    reader = MARCReader(infile)\n",
    "    for record in reader :\n",
    "        main_title = record['245']['a']\n",
    "        # Check to see if the record has a 100 field. Python's syntax can seem a bit terse in comparison to \n",
    "        # some other languages, but we could think of this statement as saying something like \"If there is a\n",
    "        # 100 field...\" As with other statements, note the colon at the end.\n",
    "        if record['100'] :\n",
    "            # The indented code will only be executed if the condition in the if statement is met. If there  \n",
    "            # isn't a 100 field in the record, this code will be skipped.\n",
    "            author_name = record['100']['a']\n",
    "            print(author_name)\n",
    "            print(main_title)\n",
    "        # Now we can say what to do if our \"if\" condition *isn't* met. (In this small MARC sample, all of the\n",
    "        # records have 100 fields, so we won't end up reaching this part of the loop in this example.)\n",
    "        else :\n",
    "            print('No author')\n",
    "            print(main_title)       "
   ]
  },
  {
   "cell_type": "markdown",
   "metadata": {},
   "source": [
    "## Data types and structures ##\n",
    "\n",
    "As with any language, Python can work with different types of data, including (among others): strings of characters; various kinds of numbers (integers, or whole numbers, and \"floats\"--numbers with decimals); \"lists\" (simple collections of data); and \"dictionaries\" (mapped collections of information with values corresponding to keys). For a discussion of Python's native data types, see: https://docs.python.org/3/library/stdtypes.html\n",
    "\n",
    "What follows is by no means an exhaustive tour of different data types, but just an introductory overview of some basics that you can start working with pretty quickly. The fact that we're working with MARC data means we need first to deal with strings: because a MARC record is simply a plaintext file, everything in it is actually a string of text, no matter what it looks like."
   ]
  },
  {
   "cell_type": "markdown",
   "metadata": {},
   "source": [
    "### Manipulating strings ###\n",
    "If you take a look at the output of the last example, you'll see that the authors' names all end with commas and the titles all end with periods. That kind of punctuation is included in the MARC specification, which ensures that records are formatted correctly when they are displayed by a library's ILS. Depending on what we were doing, we might want to get rid of those commas. \n",
    "\n",
    "Python gives us lots of ways to manipulate strings. This is far too big a topic to cover in much depth here (documentation for Python's native string methods is available here: https://docs.python.org/2/library/stdtypes.html#string-methods), but my hope is that these examples will give you enough of a starting point to figure out the syntax explained in Python documentation or that you find online.\n",
    "\n",
    "The next few examples offer a few quick illustrations of some common operations we might want to perform on strings. (In these examples, we'll often dispense with reading the MARC file and just work with information we already know about from our sample.)"
   ]
  },
  {
   "cell_type": "markdown",
   "metadata": {},
   "source": [
    "#### Stripping #### \n",
    "There are several ways to clean up white space and text at the beginnings and ends of strings. The `strip` command cleans up unwanted characters from both the beginnings and ends of strings, while the `lstrip` and `rstrip` remove unwanted characters from the left and right ends of a string, respectively. By default, all of these commands remove white spaces, but we can indicate the characters we want to remove, instead."
   ]
  },
  {
   "cell_type": "code",
   "execution_count": null,
   "metadata": {},
   "outputs": [],
   "source": [
    "## Stripping\n",
    "\n",
    "## For the sake of convenience, we'll just set the variable of author_name to a string.\n",
    "author_name = \"Davila, Arrigo Caterino,\"\n",
    "\n",
    "## Let's get rid of that trailing comma by using \"rstrip\" to remove a defined character (the comma) from the right\n",
    "## end of the string. \n",
    "\n",
    "author_name_stripped = author_name.rstrip(',')\n",
    "print(author_name_stripped)"
   ]
  },
  {
   "cell_type": "markdown",
   "metadata": {},
   "source": [
    "#### Partitioning ####\n",
    "There are plenty of times when we might want to split a string of text whenever we encounter a certain separator character. The `partition` command is a little more esoteric, but can come in handy. Given a string and a separator character, `partition` returns three pieces of information: the portion of the string before the separator, the separator itself, and the portion of the string after the separator. These three pieces of information are stored as a list (a data type we'll look at more in a little bit), and can be retrieved by referring to their position in the list. In Python, as in many other languages, we begin counting at zero rather than one (which can be tricky to remember at first).\n",
    "\n",
    "(In the example below, I'm using another operation--concatenation--to combine strings of text in order to illustrate the results of the `partition` command. We'll take another look at concatenating strings below.)"
   ]
  },
  {
   "cell_type": "code",
   "execution_count": null,
   "metadata": {},
   "outputs": [],
   "source": [
    "# Partitioning\n",
    "\n",
    "# If we partition author_name_stripped on the comma, we'll be able to rearrange the author's name in firstname \n",
    "# middlename lastname order by putting the third part of our partition before the first part. Keep in mind that, in \n",
    "# Python as with many other languages, we begin counting at 0 rather than at 1.\n",
    "\n",
    "name_parts = author_name_stripped.partition(', ')\n",
    "print(name_parts)\n",
    "print(\"\\t0: \" + name_parts[0])\n",
    "print(\"\\t1: \" + name_parts[1])\n",
    "print(\"\\t2: \" + name_parts[2])\n",
    "print(name_parts[2] + ' ' + name_parts[0])"
   ]
  },
  {
   "cell_type": "markdown",
   "metadata": {},
   "source": [
    "#### Substrings ####\n",
    "Sometimes we want to extract just a portion of a longer string. There are several different ways to do this, but the simplest case would be one where we know that we're looking for a substring of a certain length occurring at a certain known position in a longer string.\n",
    "\n",
    "Let's consider the MARC 008 control field, which is a fixed-length field that reports structured information about the record, with different character positions reserved for different pieces of information. Characters 7-10 (and, in some cases, 11-14) provide regularized publication dates for the title described by the record. Those dates can mean different things, depending on the record (the nature of the dates is reported in character 6), but for this example we can overlook those nuances and say that characters 7-10 represent the publication date.\n",
    "\n",
    "In the example below, we get the contents of the MARC 008 field by using the .data syntax, and then specify the portion of that string we want: `[7:11]`. This seems strange. If we want characters 7-10, why 11? What's happening here is that our result begins the character at our starting index position and goes up to *but not including* the character at our ending position.\n",
    "\n",
    "(It's worth pointing out here that a lot of this syntax will come up again when we begin working with lists. That's because, in a sense, a string is really just a list of characters.)"
   ]
  },
  {
   "cell_type": "code",
   "execution_count": null,
   "metadata": {},
   "outputs": [],
   "source": [
    "from pymarc import MARCReader\n",
    "with open('/media/sf_RBSDigitalApproaches/data/0611_Tuesday_data/Bowyer_from_ESTC-sample.mrc','r') as infile :\n",
    "    reader = MARCReader(infile)\n",
    "    for record in reader :\n",
    "        pub_year = record['008'].data[7:11]\n",
    "        print(pub_year)"
   ]
  },
  {
   "cell_type": "markdown",
   "metadata": {},
   "source": [
    "Let's look at a couple of other substring examples. Most of these will seem a little arbitrary, but there may be times when we'd need them. Comment and uncomment the various print commands in the cell below to see what they do."
   ]
  },
  {
   "cell_type": "code",
   "execution_count": null,
   "metadata": {},
   "outputs": [],
   "source": [
    "# For this example, we'll forego reading the MARC file and just work with some static strings.\n",
    "main_title = 'Observations on the small pox: or, An essay to discover a more effectual method of cure.'\n",
    "author_name = 'Holland, Richard,'\n",
    "\n",
    "# Retrieve the first 20 characters of the title (this is the same as saying [0:21])\n",
    "print(main_title[:21])\n",
    "\n",
    "# Retrieve the last 20 characters of the title (start at the 20th character from the end and continue to \n",
    "# the end of the string).\n",
    "#print(main_title[-21:])\n",
    "\n",
    "# We can combine string operations to do more obviously sensible things, like getting the portion of the\n",
    "# title up to the colon...\n",
    "#print(main_title[0:main_title.find(':')])\n",
    "\n",
    "# ... or the author's last name, by getting the portion up to the comma...\n",
    "#print(author_name[0:author_name.find(',')])\n",
    "\n",
    "# ... or the author's first name, by getting the portion after the first comma and white space, and up to the \n",
    "# last comma. (Though, really, partition(',') would be easier for this.):\n",
    "#print(author_name[author_name.find(', ')+2:author_name.rfind(',')])"
   ]
  },
  {
   "cell_type": "markdown",
   "metadata": {},
   "source": [
    "#### Concatenating strings ####\n",
    "As we saw with the `partition` example, above, we can use plus signs to concatenate (i.e., chain together) different strings. This comes in handy, and you can build up long strings of text this way. In the next example, we'll splice together several different strings in order to create a formatted citation for each record in the MARC file."
   ]
  },
  {
   "cell_type": "code",
   "execution_count": null,
   "metadata": {},
   "outputs": [],
   "source": [
    "from pymarc import MARCReader\n",
    "with open('/media/sf_RBSDigitalApproaches/data/0611_Tuesday_data/Bowyer_from_ESTC-sample.mrc','r') as infile :\n",
    "    reader = MARCReader(infile)\n",
    "    for record in reader :\n",
    "        author_name = record['100']['a'].rstrip(',')\n",
    "        main_title = record['245']['a']\n",
    "        pub_city = record['260']['a'].rstrip(' :')\n",
    "        imprint = record['260']['b']\n",
    "        pub_year = record['008'].data[7:11]\n",
    "        print(author_name + '. ' + main_title + ' (' + pub_city  +': ' + imprint + ' ' + pub_year + '.)\\n')"
   ]
  },
  {
   "cell_type": "markdown",
   "metadata": {},
   "source": [
    "#### Converting strings to numbers ####\n",
    "In an earlier example, we extracted four characters from the 008 control field to get a regularized publication year. But, crucially, while those are numerical characters, as far as the computer is concerned, they don't represent a number. Run the code in the cell below and study the error message that we get when we try to calculate how long ago a book was published by subtracting the publication date from the current year."
   ]
  },
  {
   "cell_type": "code",
   "execution_count": null,
   "metadata": {
    "scrolled": true
   },
   "outputs": [],
   "source": [
    "from pymarc import MARCReader\n",
    "with open('/media/sf_RBSDigitalApproaches/data/0611_Tuesday_data/Bowyer_from_ESTC-sample.mrc','r') as infile :\n",
    "    reader = MARCReader(infile)\n",
    "    for record in reader :\n",
    "        pub_year = record['008'].data[7:11]\n",
    "        print(pub_year)\n",
    "        years_ago = 2018 - pub_year\n",
    "        print(years_ago)       "
   ]
  },
  {
   "cell_type": "markdown",
   "metadata": {},
   "source": [
    "It turns out, you can't subtract a string from an integer. (In this case, we're dealing with a unicode string, since our file of MARC records is encoded as UTF-8.) Despite what it looks like to us, the value of `pub_year`--\"1758\"--isn't something that our script can recognize as a number. We can confirm the problem by inspecting the datatype of `pub_year`."
   ]
  },
  {
   "cell_type": "code",
   "execution_count": null,
   "metadata": {},
   "outputs": [],
   "source": [
    "from pymarc import MARCReader\n",
    "with open('/media/sf_RBSDigitalApproaches/data/0611_Tuesday_data/Bowyer_from_ESTC-sample.mrc','r') as infile :\n",
    "    reader = MARCReader(infile)\n",
    "    for record in reader :\n",
    "        pub_year = record['008'].data[7:11]\n",
    "        print(pub_year)\n",
    "        print(type(pub_year))"
   ]
  },
  {
   "cell_type": "markdown",
   "metadata": {},
   "source": [
    "If we want to use the string of characters we extracted from the 008 control field as a year that we can use in calculations, we need to convert it from a unicode string to an integer. (Note, though that, in the last line, I've had to convert that integer *back to a string* in order to combine it with the words \" years ago.\"!)"
   ]
  },
  {
   "cell_type": "code",
   "execution_count": null,
   "metadata": {},
   "outputs": [],
   "source": [
    "from pymarc import MARCReader\n",
    "with open('/media/sf_RBSDigitalApproaches/data/0611_Tuesday_data/Bowyer_from_ESTC-sample.mrc','r') as infile :\n",
    "    reader = MARCReader(infile)\n",
    "    for record in reader :\n",
    "        pub_year = record['008'].data[7:11]\n",
    "        print(pub_year + ': ' + str(type(pub_year)))\n",
    "        pub_year_int = int(pub_year)\n",
    "        print(str(pub_year_int) + ': ' + str(type(pub_year_int)))\n",
    "        years_ago = 2018 - int(pub_year)\n",
    "        print(pub_year + ' was ' + str(years_ago) + ' years ago.\\n')"
   ]
  },
  {
   "cell_type": "markdown",
   "metadata": {},
   "source": [
    "### Working with lists ###\n",
    "\n",
    "We've already gotten a bit of a preview of working with lists from some of our work with substrings, but let's take a closer look. In the next example, we'll create a list to hold the names of the authors for our records and add the authors' names to that list as we iterate through the MARC records in the file."
   ]
  },
  {
   "cell_type": "code",
   "execution_count": null,
   "metadata": {},
   "outputs": [],
   "source": [
    "from pymarc import MARCReader\n",
    "with open('/media/sf_RBSDigitalApproaches/data/0611_Tuesday_data/Bowyer_from_ESTC-sample.mrc','r') as infile :\n",
    "    reader = MARCReader(infile)\n",
    "    # Create a variable named \"authors\" that is an empty list. Note that this variable is created *outside* our for\n",
    "    # loop...\n",
    "    authors = []\n",
    "    for record in reader :\n",
    "        author_name = record['100']['a'].rstrip(',')\n",
    "        # Now append each author_name to our list of authors.\n",
    "        authors.append(author_name)\n",
    "    # Note that we've left the \"for\" loop. In our earlier examples, the values of our variables were only available\n",
    "    # inside the for loop--this time, we collected the values as we looped through the MARC records and stored\n",
    "    # them in a list where we can get to them even again.\n",
    "    print(authors)"
   ]
  },
  {
   "cell_type": "markdown",
   "metadata": {},
   "source": [
    "We access the individual items in the list by using their index numbers (this should look familiar from our substring examples). Note that can also check to see how many items are in a list using `len()`. Comment and uncomment the print commands below to se how different list indices work"
   ]
  },
  {
   "cell_type": "code",
   "execution_count": null,
   "metadata": {},
   "outputs": [],
   "source": [
    "from pymarc import MARCReader\n",
    "with open('/media/sf_RBSDigitalApproaches/data/0611_Tuesday_data/Bowyer_from_ESTC-sample.mrc','r') as infile :\n",
    "    reader = MARCReader(infile)\n",
    "    authors = []\n",
    "    for record in reader :\n",
    "        author_name = record['100']['a'].rstrip(',')\n",
    "        authors.append(author_name)\n",
    "    print(authors)\n",
    "    print(len(authors))\n",
    "    #print(authors[1])\n",
    "    #print(authors[0])\n",
    "    #print(authors[-1])\n",
    "    #print(authors[0:3])\n",
    "    #print(authors[0:-2])\n",
    "    #print(authors[:2])\n",
    "    #print(authors[3:])   "
   ]
  },
  {
   "cell_type": "markdown",
   "metadata": {},
   "source": [
    "We can iterate through the items in a list in the same way we've been iterating through the MARC records in our file."
   ]
  },
  {
   "cell_type": "code",
   "execution_count": null,
   "metadata": {},
   "outputs": [],
   "source": [
    "from pymarc import MARCReader\n",
    "with open('/media/sf_RBSDigitalApproaches/data/0611_Tuesday_data/Bowyer_from_ESTC-sample.mrc','r') as infile :\n",
    "    reader = MARCReader(infile)\n",
    "    authors = []\n",
    "    for record in reader :\n",
    "        author_name = record['100']['a'].rstrip(',')\n",
    "        authors.append(author_name)\n",
    "    # Note that \"author\" is an arbitrary name. We could say \"for i in authors\" and it would work just as well\n",
    "    for author in authors :\n",
    "        print(author)"
   ]
  },
  {
   "cell_type": "markdown",
   "metadata": {},
   "source": [
    "In our examples so far, we've been working with a very small sample set of just five MARC records, and those records all happen to be for titles written by different authors. If we were to work with a larger set of MARC records (as in this next example), we could expect to encounter multiple records with the same author. If we were to add all of the authors to our list as we've been doing so far, we'd end up with duplicates in our list. In some scenarios, that might not be a problem, but we could use an `if` statement to check and make sure that our `author_name` isn't already in the list before adding it. (While we're at it, let's add in a check to make sure that there's actualy a 100 field in the record before we try to get a nonexistent 100|a subfield.)"
   ]
  },
  {
   "cell_type": "code",
   "execution_count": null,
   "metadata": {},
   "outputs": [],
   "source": [
    "from pymarc import MARCReader\n",
    "with open('/media/sf_RBSDigitalApproaches/data/0611_Tuesday_data/Bowyer_from_ESTC-full.mrc','r') as infile :\n",
    "    reader = MARCReader(infile)\n",
    "    authors = []\n",
    "    for record in reader :\n",
    "        if record['100'] :\n",
    "            author_name = record['100']['a'].rstrip(',')\n",
    "            if author_name not in authors :\n",
    "                authors.append(author_name)\n",
    "    print(len(authors))\n",
    "    for author in authors :\n",
    "        print author\n",
    "    # If we wanted to, we could put sort the list alphabetically:\n",
    "    #authors.sort()\n",
    "    #for author in authors :\n",
    "        #print author"
   ]
  },
  {
   "cell_type": "markdown",
   "metadata": {},
   "source": [
    "### Working with dictionaries ###\n",
    "\n",
    "While lists are useful for some kinds of work, other situations call for a different kind of data structure. A dictionary holds data as a series of key/value pairs. Note that the values of a dictionary can be any combination of strings, numbers, lists, and even other dictionaries, so a dictionary can represent very complex information (and can get correspondingly complex to deal with in a hurry!). \n",
    "\n",
    "We could imagine holding data about a person in a dictionary like this, for example:\n",
    "\n",
    "`{'first_name': 'John', 'last_name': 'Doe', 'age': 73, 'hobbies': ['birding','stamp collecting','freestyle polka'], 'family_members': {'father': 'James Doe', 'mother': 'Mary Doe', 'sister': 'Ann Doe'}, 'eye_color': 'brown'}`\n",
    "\n",
    "In the next example, we'll create a dictionary rather than a list. We'll store authors' names as keys and keep a running count of the number of records by each author as the value. Because we don't know in advance what author names we might encounter, we'll use the `setdefault` command to add new keys to our dictionary if they aren't already present."
   ]
  },
  {
   "cell_type": "code",
   "execution_count": null,
   "metadata": {},
   "outputs": [],
   "source": [
    "from pymarc import MARCReader\n",
    "with open('/media/sf_RBSDigitalApproaches/data/0611_Tuesday_data/Bowyer_from_ESTC-full.mrc','r') as infile :\n",
    "    reader = MARCReader(infile)\n",
    "    # Create the variable authors, this time as an empty dictionary, rather than an empty list. (Note the \n",
    "    # curly braces in place of the square brackets we used in our earlier example.)\n",
    "    authors = {}\n",
    "    for record in reader :\n",
    "        if record['100'] :\n",
    "            author_name = record['100']['a'].rstrip(',')\n",
    "            # We use setdefault: if author_name is not already present as a key in our dictionary, we'll\n",
    "            # add a new key,value pair with the author_name as the key and 0 as the value.\n",
    "            authors.setdefault(author_name,0)\n",
    "            # Now we increment the value associated with the key for this author_name. If that wasn't already\n",
    "            # present, we just created it with value 0, so we'll be making the value equal one. If that key\n",
    "            # *was* already present, the setdefault comand won't have done anything, so we'll be adding one\n",
    "            # to the value that was there (e.g., increasing 1 to 2, 12 to 13, etc.)\n",
    "            authors[author_name] += 1\n",
    "    for author in authors.items() :\n",
    "        print(author)"
   ]
  },
  {
   "cell_type": "markdown",
   "metadata": {},
   "source": [
    "Working with the contents of a dictionary is somewhat similar to working with a list, but with some twists because of the more complex key,value structure. Rather than accessing entries in the dictionary by index number, we use the key. "
   ]
  },
  {
   "cell_type": "code",
   "execution_count": null,
   "metadata": {},
   "outputs": [],
   "source": [
    "from pymarc import MARCReader\n",
    "with open('/media/sf_RBSDigitalApproaches/data/0611_Tuesday_data/Bowyer_from_ESTC-full.mrc','r') as infile :\n",
    "    reader = MARCReader(infile)\n",
    "    authors = {}\n",
    "    for record in reader :\n",
    "        if record['100'] :\n",
    "            author_name = record['100']['a'].rstrip(',')\n",
    "            authors.setdefault(author_name,0)\n",
    "            authors[author_name] += 1\n",
    "    \n",
    "    # Let's see how many distinct authors we found. Rather than using len() directly, as we could with a list, we\n",
    "    # need to get the len() of the keys in the dictionary.\n",
    "    print(len(authors.keys()))\n",
    "    \n",
    "    # We access a dictionary entry not with an index number, as we did with lists, but with the key.\n",
    "    #print(authors['Pagett, Thomas Catesby'])\n",
    "\n",
    "    # We can't iterate through a dictionary quite as directly as we iterate through a list.\n",
    "    #for author, count in authors.iteritems() :\n",
    "    #    print(author + ': ' + str(count))\n",
    "        \n",
    "    # Dictionaries are, by nature, unsorted, but we can sort them at the time we display them, if we really want to:\n",
    "    #for author in sorted(authors) :\n",
    "     #   print(author + ': ' + str(authors[author]))\n",
    "    "
   ]
  },
  {
   "cell_type": "markdown",
   "metadata": {},
   "source": [
    "## Conclusions ##\n",
    "\n",
    "This notebook has touched on a lot of different techniques, but none of them in too much depth. It may, though, provide a starting point and reference for some of the things that can come up most commonly in working with bibliographic data in MARC format.\n",
    "\n",
    "Another notebook in this directory (03-Living vs dead authors printed by Wm Bowyer (Case Study).ipynb) uses many of these techniques (and a few others) to take on a practical question from start to finish: of the titles printed by William Bowyer, how many were written by living authors and how many by dead ones? The next notebook in this directory (02-Parsing MARCXML with Python.ipynb) offers a quick look at a different flavor of MARC data--MARCXML, or MARC expressed in XML."
   ]
  }
 ],
 "metadata": {
  "kernelspec": {
   "display_name": "Python 2",
   "language": "python",
   "name": "python2"
  },
  "language_info": {
   "codemirror_mode": {
    "name": "ipython",
    "version": 2
   },
   "file_extension": ".py",
   "mimetype": "text/x-python",
   "name": "python",
   "nbconvert_exporter": "python",
   "pygments_lexer": "ipython2",
   "version": "2.7.12"
  }
 },
 "nbformat": 4,
 "nbformat_minor": 2
}
