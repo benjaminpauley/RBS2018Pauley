{
 "cells": [
  {
   "cell_type": "markdown",
   "metadata": {},
   "source": [
    "# This is not generally why we do OCR... #\n",
    "\n",
    "We usually want to perform OCR on page images so that we can get computer-readable text out so that the text can be searched or analyzed. The trainings I produced for working with Thomson's *Sophonisba*, however, were aimed at the typography of the play as much as they were at the text. The code in this notebook uses the coordinates from Tesseract-generated box files to isolate and exrtreact images of individual characters in a page image. In principle, having these images of individual glyphs could facilitate the typographical study of the text. We can use computer vision techniques to try to find individually-identifiable type sorts and look for their recurrence, either within a book or between different books.\n",
    "\n",
    "\\[Note: If you are running this notebook in the virtual machine for the course, make sure you're working in the `images` virtual environment (`workon images`). "
   ]
  },
  {
   "cell_type": "code",
   "execution_count": null,
   "metadata": {},
   "outputs": [],
   "source": [
    "which "
   ]
  }
 ],
 "metadata": {
  "kernelspec": {
   "display_name": "Python 2",
   "language": "python",
   "name": "python2"
  },
  "language_info": {
   "codemirror_mode": {
    "name": "ipython",
    "version": 2
   },
   "file_extension": ".py",
   "mimetype": "text/x-python",
   "name": "python",
   "nbconvert_exporter": "python",
   "pygments_lexer": "ipython2",
   "version": "2.7.12"
  }
 },
 "nbformat": 4,
 "nbformat_minor": 2
}
