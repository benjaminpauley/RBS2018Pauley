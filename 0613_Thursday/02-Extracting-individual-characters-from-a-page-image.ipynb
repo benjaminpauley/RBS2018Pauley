{
 "cells": [
  {
   "cell_type": "markdown",
   "metadata": {},
   "source": [
    "# This is not generally why we do OCR... #\n",
    "\n",
    "We usually want to perform OCR on page images so that we can get computer-readable text out so that the text can be searched or analyzed. The trainings I produced for working with Thomson's *Sophonisba*, however, were aimed at the typography of the play as much as they were at the text. The code in this notebook uses the coordinates from Tesseract-generated box files to isolate and exrtreact images of individual characters in a page image. In principle, having these images of individual glyphs could facilitate the typographical study of the text. We can use computer vision techniques to try to find individually-identifiable type sorts and look for their recurrence, either within a book or between different books.\n",
    "\n",
    "\\[Note: If you are running this notebook in the virtual machine for the course, make sure you're working in the `images` virtual environment (`workon images`). If you are not working in the course's virtual machine, you'll need to have the `Pillow` package installed (`pip install pillow`, assuming you have `pip` installed). The repo at GitHub also includes a standalone Python script that you can run at the command line, providing as arguments an input directory of TIFF/box pairs and an output directory for the resulting glyphs, e.g. `python letters.py -i path/to/tiff/box/pairs/ -o path/to/glyph/output`.\\]"
   ]
  },
  {
   "cell_type": "markdown",
   "metadata": {},
   "source": [
    "### Import required packages ###\n",
    "\n",
    "This script will use a number of packages: `csv` for reading the coordinates in the box file; "
   ]
  },
  {
   "cell_type": "code",
   "execution_count": null,
   "metadata": {},
   "outputs": [],
   "source": [
    "import csv\n",
    "import re\n",
    "import glob\n",
    "from PIL import Image\n",
    "import io\n",
    "import os\n",
    "import sys\n",
    "\n",
    "reload(sys)\n",
    "sys.setdefaultencoding('utf-8')"
   ]
  }
 ],
 "metadata": {
  "kernelspec": {
   "display_name": "Python 2",
   "language": "python",
   "name": "python2"
  },
  "language_info": {
   "codemirror_mode": {
    "name": "ipython",
    "version": 2
   },
   "file_extension": ".py",
   "mimetype": "text/x-python",
   "name": "python",
   "nbconvert_exporter": "python",
   "pygments_lexer": "ipython2",
   "version": "2.7.12"
  }
 },
 "nbformat": 4,
 "nbformat_minor": 2
}
